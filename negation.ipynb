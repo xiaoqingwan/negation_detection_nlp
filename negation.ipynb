{
 "cells": [
  {
   "cell_type": "markdown",
   "metadata": {},
   "source": [
    "# Overview\n",
    "In this notebook, I used negex to detect negated entities. Negex was developed in early 2000', but it continues to be a popular package for negation detection. \n",
    "\n",
    "Here, we combine negex with stanza, which is an NLP package. Together, they will identify medical entities, and tell us whether an entity is negated."
   ]
  },
  {
   "cell_type": "markdown",
   "metadata": {},
   "source": [
    "# Installation"
   ]
  },
  {
   "cell_type": "code",
   "execution_count": 2,
   "metadata": {},
   "outputs": [],
   "source": [
    "# import sys\n",
    "# !{sys.executable} -m pip install spacy\n",
    "# !{sys.executable} -m pip install negspacy\n",
    "# !{sys.executable} -m pip install spacy_stanza #This package wraps the Stanza (formerly StanfordNLP) library, so you can use Stanford's models in a spaCy pipeline."
   ]
  },
  {
   "cell_type": "code",
   "execution_count": 1,
   "metadata": {},
   "outputs": [],
   "source": [
    "import spacy # to build a nlp pipeline\n",
    "import stanza # for named entity recognition\n",
    "# this package wraps Stanza around Spacy, so that we can use Stanza in a spaCy pipeline.\n",
    "import spacy_stanza\n",
    "from negspacy.negation import Negex\n",
    "from negspacy.termsets import termset # to customize negation terms\n",
    "import pandas as pd\n",
    "\n"
   ]
  },
  {
   "cell_type": "markdown",
   "metadata": {},
   "source": [
    "# Set up NLP pipeline"
   ]
  },
  {
   "cell_type": "code",
   "execution_count": 2,
   "metadata": {},
   "outputs": [
    {
     "name": "stderr",
     "output_type": "stream",
     "text": [
      "2021-12-17 15:04:45 INFO: Loading these models for language: en (English):\n",
      "=======================\n",
      "| Processor | Package |\n",
      "-----------------------\n",
      "| tokenize  | mimic   |\n",
      "| pos       | mimic   |\n",
      "| lemma     | mimic   |\n",
      "| depparse  | mimic   |\n",
      "| ner       | i2b2    |\n",
      "=======================\n",
      "\n",
      "2021-12-17 15:04:45 INFO: Use device: cpu\n",
      "2021-12-17 15:04:45 INFO: Loading: tokenize\n",
      "2021-12-17 15:04:45 INFO: Loading: pos\n",
      "2021-12-17 15:04:45 INFO: Loading: lemma\n",
      "2021-12-17 15:04:46 INFO: Loading: depparse\n",
      "2021-12-17 15:04:46 INFO: Loading: ner\n",
      "2021-12-17 15:04:46 INFO: Done loading processors!\n"
     ]
    }
   ],
   "source": [
    "# download and initialize a mimic pipeline with an i2b2 NER model\n",
    "# stanza.download('en', package='mimic', processors={'ner': 'i2b2'})\n",
    "nlp = spacy_stanza.load_pipeline('en', package='mimic', processors={'ner': 'i2b2'})"
   ]
  },
  {
   "cell_type": "markdown",
   "metadata": {},
   "source": [
    "# Add customized terms to the default list of terms"
   ]
  },
  {
   "cell_type": "code",
   "execution_count": 3,
   "metadata": {},
   "outputs": [],
   "source": [
    "ts = termset(\"en_clinical\")\n",
    "# customize the term list by adding more negation terms\n",
    "ts.add_patterns({\n",
    "            'preceding_negations': ['abstain from','other than','except for','except','with the exception of',\n",
    "                                    'excluding','lack of','contraindication','contraindicated','interfere with',\n",
    "                                   'prohibit','prohibits'],\n",
    "            'following_negations':['negative','is allowed','impossible','exclusionary']\n",
    "        })"
   ]
  },
  {
   "cell_type": "markdown",
   "metadata": {},
   "source": [
    "# Let negex know what entities we are extracting"
   ]
  },
  {
   "cell_type": "code",
   "execution_count": 4,
   "metadata": {},
   "outputs": [
    {
     "data": {
      "text/plain": [
       "<negspacy.negation.Negex at 0x7fc823ddd940>"
      ]
     },
     "execution_count": 4,
     "metadata": {},
     "output_type": "execute_result"
    }
   ],
   "source": [
    "nlp.add_pipe(\"negex\", config={\"ent_types\":[\"PROBLEM\",\"TEST\",'TREATMENT']})\n"
   ]
  },
  {
   "cell_type": "markdown",
   "metadata": {},
   "source": [
    "# Examples\n",
    "\"True\" means an entity should be negated"
   ]
  },
  {
   "cell_type": "code",
   "execution_count": 5,
   "metadata": {},
   "outputs": [
    {
     "name": "stdout",
     "output_type": "stream",
     "text": [
      "a headache False\n",
      "fever True\n"
     ]
    }
   ],
   "source": [
    "doc = nlp('Patient had a headache, but no fever')\n",
    "\n",
    "for e in doc.ents:\n",
    "\tprint(e.text, e._.negex)"
   ]
  },
  {
   "cell_type": "code",
   "execution_count": 26,
   "metadata": {},
   "outputs": [
    {
     "name": "stdout",
     "output_type": "stream",
     "text": [
      "diabetes True\n"
     ]
    }
   ],
   "source": [
    "doc = nlp('No history of diabetes')\n",
    "\n",
    "for e in doc.ents:\n",
    "\tprint(e.text, e._.negex)"
   ]
  },
  {
   "cell_type": "code",
   "execution_count": 8,
   "metadata": {
    "scrolled": true
   },
   "outputs": [
    {
     "name": "stdout",
     "output_type": "stream",
     "text": [
      "painkillers True\n",
      "NSAIDs True\n",
      "allergy medications True\n"
     ]
    }
   ],
   "source": [
    "doc = nlp('Patients should abstain from painkillers like NSAIDs and allergy medications for 24 hours')\n",
    "\n",
    "for e in doc.ents:\n",
    "\tprint(e.text, e._.negex)"
   ]
  },
  {
   "cell_type": "code",
   "execution_count": 10,
   "metadata": {},
   "outputs": [
    {
     "name": "stdout",
     "output_type": "stream",
     "text": [
      "pregnancy False\n",
      "hormonal birth control True\n"
     ]
    }
   ],
   "source": [
    "doc = nlp('Women with pregnancy should not take hormonal birth control')\n",
    "\n",
    "for e in doc.ents:\n",
    "\tprint(e.text, e._.negex)"
   ]
  },
  {
   "cell_type": "markdown",
   "metadata": {},
   "source": [
    "# References\n",
    "Negation\n",
    "* https://github.com/jenojp/negspacy\n",
    "* https://medium.com/@MansiKukreja/clinical-text-negation-handling-using-negspacy-and-scispacy-233ce69ab2ac\n",
    "* https://towardsdatascience.com/clinical-notes-the-negative-story-e1140dd275c7\n",
    "* https://www.youtube.com/watch?v=IiD3YZkkCmE&t=2210s\n",
    "(see 36:41 of the video)\n",
    "\n",
    "Negex: how to add and delete custom negation terms\n",
    "* https://pypi.org/project/negspacy/\n"
   ]
  }
 ],
 "metadata": {
  "kernelspec": {
   "display_name": "Python 3 (ipykernel)",
   "language": "python",
   "name": "python3"
  },
  "language_info": {
   "codemirror_mode": {
    "name": "ipython",
    "version": 3
   },
   "file_extension": ".py",
   "mimetype": "text/x-python",
   "name": "python",
   "nbconvert_exporter": "python",
   "pygments_lexer": "ipython3",
   "version": "3.8.12"
  },
  "toc": {
   "base_numbering": 1,
   "nav_menu": {},
   "number_sections": true,
   "sideBar": true,
   "skip_h1_title": false,
   "title_cell": "Table of Contents",
   "title_sidebar": "Contents",
   "toc_cell": false,
   "toc_position": {},
   "toc_section_display": true,
   "toc_window_display": false
  }
 },
 "nbformat": 4,
 "nbformat_minor": 2
}
